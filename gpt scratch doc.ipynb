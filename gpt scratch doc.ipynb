{
 "cells": [
  {
   "cell_type": "code",
   "execution_count": 1,
   "metadata": {},
   "outputs": [
    {
     "name": "stdout",
     "output_type": "stream",
     "text": [
      "Total characters: 2268706\n"
     ]
    }
   ],
   "source": [
    "# Open the file in read mode\n",
    "with open(\"C:\\\\Users\\\\StrawMan\\\\Desktop\\\\IS 640 Programming\\\\GPT Project\\\\Star Wars- [Thrawn Trilogy] (Timothy Zahn).txt\", \"r\", encoding=\"utf-8\") as file:\n",
    "    content = file.read()  # Read the file content\n",
    "    char_count = len(content)  # Count the characters\n",
    "\n",
    "print(f\"Total characters: {char_count}\")"
   ]
  },
  {
   "cell_type": "code",
   "execution_count": 2,
   "metadata": {},
   "outputs": [
    {
     "name": "stdout",
     "output_type": "stream",
     "text": [
      "Total characters: 1115394\n"
     ]
    }
   ],
   "source": [
    "# Open the file in read mode\n",
    "with open(\"C:\\\\Users\\\\StrawMan\\\\Desktop\\\\IS 640 Programming\\\\GPT Project\\\\input.txt\", \"r\", encoding=\"utf-8\") as file:\n",
    "    content = file.read()  # Read the file content\n",
    "    char_count = len(content)  # Count the characters\n",
    "\n",
    "print(f\"Total characters: {char_count}\")"
   ]
  },
  {
   "cell_type": "code",
   "execution_count": null,
   "metadata": {},
   "outputs": [],
   "source": []
  }
 ],
 "metadata": {
  "kernelspec": {
   "display_name": "Python 3",
   "language": "python",
   "name": "python3"
  },
  "language_info": {
   "codemirror_mode": {
    "name": "ipython",
    "version": 3
   },
   "file_extension": ".py",
   "mimetype": "text/x-python",
   "name": "python",
   "nbconvert_exporter": "python",
   "pygments_lexer": "ipython3",
   "version": "3.12.5"
  }
 },
 "nbformat": 4,
 "nbformat_minor": 2
}
